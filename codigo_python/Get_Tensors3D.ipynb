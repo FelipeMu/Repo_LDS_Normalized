{
 "cells": [
  {
   "cell_type": "markdown",
   "metadata": {},
   "source": [
    "**Librerias para trabajar con la red neuronal y procesamiento de datos**"
   ]
  },
  {
   "cell_type": "code",
   "execution_count": 1,
   "metadata": {},
   "outputs": [],
   "source": [
    "import os\n",
    "import numpy as np # type: ignore\n",
    "import scipy.io\n",
    "from scipy.io import loadmat # type: ignore\n",
    "import tensorflow as tf # Para red neuronal profunda\n",
    "import numpy as np\n",
    "import matplotlib.pyplot as plt\n",
    "import time # Para tomar el tiempo de entrenamiento de la red\n",
    "import math"
   ]
  },
  {
   "cell_type": "code",
   "execution_count": 2,
   "metadata": {},
   "outputs": [],
   "source": [
    "os.environ['TF_ENABLE_ONEDNN_OPTS'] = '0'"
   ]
  },
  {
   "cell_type": "markdown",
   "metadata": {},
   "source": [
    "**CONVERTIR MATRICES DE: .mat  --> .npy**"
   ]
  },
  {
   "cell_type": "markdown",
   "metadata": {
    "editable": true,
    "slideshow": {
     "slide_type": ""
    },
    "tags": []
   },
   "source": [
    "Directorios de entrada y salida: ***SUJETOS SANOS Y PACIENTES TEC***\n",
    "\n",
    "**(1) sujetos sanos:** 1_HEMU - 2_DAOC - 3_DASI - 4_DABA - 5_HEFU - 6_JOBO - 7_ROMI - 8_FEGA - 9_GAGO - 10_MIMO - 11_JULE - 12_NIGA - 13_BYLA - 14_ARVA - 15_CLSE - 16_PAAR - 17_VATO - 18_FEBE - 19_VINA - 20_CLHE - 21_MAIN - 22_ALSA - 23_MIRA - 24_LACA - 25_GOAC - 26_ANGL - 27_HC036101\n",
    "___________________________________________________________________________________________________________________________________________________________________________________\n",
    "\n",
    "**(2) pacientes tec:** 1_DENI1005 - 2_KNOW1001 - 3_ALI0 - 4_BUTL - 5_HAGG - 6_HASTI007 - 7_BOAM - 8_DANE0005 - 9_GREG - 10_AITK - 11_RANS0000 - 12_JONES004 - 13_PERR - 14_SLAC - 15_HEPPL010 - 16_RICHS010 - 17_KENT0007 - 18_STAN1002 - 19_MCDON022 - 20_PULL - 21_MORR1002 - 22_PARK - 23_HIGH - 24_NOBL - 25_COWL - 26_KHAN - 27_NOLA"
   ]
  },
  {
   "cell_type": "code",
   "execution_count": 3,
   "metadata": {},
   "outputs": [],
   "source": [
    "def convert_mat_to_npy(input_dir, output_dir, prefix):\n",
    "    for i in range(1, total_files):\n",
    "        mat_file = os.path.join(input_dir, f'{prefix}_noise_{i}.mat')\n",
    "        npy_file = os.path.join(output_dir, f'{prefix}_noise_{i}.npy')\n",
    "        \n",
    "        # Cargar el archivo .mat\n",
    "        mat_data = loadmat(mat_file)\n",
    "        \n",
    "        # Extraer la matriz compleja\n",
    "        matrix_key = [key for key in mat_data.keys() if not key.startswith('__')][0]\n",
    "        matrix = mat_data[matrix_key]\n",
    "        \n",
    "        # Guardar la matriz en formato .npy\n",
    "        np.save(npy_file, matrix)"
   ]
  },
  {
   "cell_type": "code",
   "execution_count": 4,
   "metadata": {},
   "outputs": [],
   "source": [
    "#PROCESAR MATRICES SEGÚN UNA NORMALIZACIÓN Y ORGANIZAR DATOS PARA LA RED\n",
    "\n",
    "\n",
    "#Entrada: matriz_compleja (array bidimensional)\n",
    "#Salida: datos_organizados (tensor de datos de la matriz pam)\n",
    "#Descripcion: funcion encargada de normalizar cada matriz pam y definir el input para la red u-net\n",
    "def procesar_matriz_compleja_pam(matriz_compleja):\n",
    "    \n",
    "    # Aplicacion de normalziacion Z-CORE || z = (x - u) / desv\n",
    "    #norm_real, norm_imag = normalizacion_pam(matriz_compleja)\n",
    "\n",
    "    # Aplicacion de normalziacion MIN-MAX || Ni = (Xi - Xmin) / (Xmax - Xmin)\n",
    "    #norm_real, norm_imag = normalizacion_minmax_pam(matriz_compleja)\n",
    "\n",
    "    # Crear input adecuado\n",
    "    #datos_organizados = np.stack((norm_real, norm_imag), axis=-1)\n",
    "    datos_organizados = np.stack((matriz_compleja.real, matriz_compleja.imag), axis=-1)\n",
    "    return datos_organizados\n",
    "\n",
    "\n",
    "\n",
    "\n",
    "\n",
    "#Entrada: matriz_compleja (array bidimensional)\n",
    "#Salida: datos_organizados (tensor de datos de la matriz vsc)\n",
    "#Descripcion: funcion encargada de normalizar cada matriz vsc y definir el input para la red u-net\n",
    "def procesar_matriz_compleja_vsc(matriz_compleja):\n",
    "    \n",
    "    # Aplicacion de normalziacion Z-CORE || z=(x - u)/desv\n",
    "    #norm_real, norm_imag = normalizacion_vsc(matriz_compleja)\n",
    "\n",
    "    # Aplicacion de normalziacion MIN-MAX || Ni = (Xi-Xmin)/(Xmax-Xmin)\n",
    "    #norm_real, norm_imag = normalizacion_minmax_vsc(matriz_compleja)\n",
    "    \n",
    "    # Crear input adecuado\n",
    "    #datos_organizados = np.stack((norm_real, norm_imag), axis=-1)\n",
    "    datos_organizados = np.stack((matriz_compleja.real, matriz_compleja.imag), axis=-1)\n",
    "    return datos_organizados"
   ]
  },
  {
   "cell_type": "code",
   "execution_count": 5,
   "metadata": {},
   "outputs": [],
   "source": [
    "#Funcion para verificar la forma de una matriz\n",
    "def verificar_shape(directorio, nombre_archivo):\n",
    "    path = os.path.join(directorio, nombre_archivo)\n",
    "    matriz = np.load(path)\n",
    "    return matriz.shape"
   ]
  },
  {
   "cell_type": "code",
   "execution_count": 6,
   "metadata": {},
   "outputs": [
    {
     "name": "stdout",
     "output_type": "stream",
     "text": [
      "TEC/1_DENI1005\n",
      "D:/TT/Memoria/CodigoFuenteNormalized/codigo_matlab/codigo_fuente/signals_LDS_Norm/TEC/1_DENI1005/PAMnoises_matrixcomplex_mat\n",
      "D:/TT/Memoria/CodigoFuenteNormalized/codigo_matlab/codigo_fuente/signals_LDS_Norm/TEC/1_DENI1005/VSCdnoises_matrixcomplex_mat\n",
      "D:/TT/Memoria/CodigoFuenteNormalized/codigo_matlab/codigo_fuente/signals_LDS_Norm/TEC/1_DENI1005/VSCinoises_matrixcomplex_mat\n",
      "Total de archivos a analizar ->  15\n",
      "Procesamiento completado: VSCi lado izquierdo.\n",
      "TEC/2_KNOW1001\n",
      "D:/TT/Memoria/CodigoFuenteNormalized/codigo_matlab/codigo_fuente/signals_LDS_Norm/TEC/2_KNOW1001/PAMnoises_matrixcomplex_mat\n",
      "D:/TT/Memoria/CodigoFuenteNormalized/codigo_matlab/codigo_fuente/signals_LDS_Norm/TEC/2_KNOW1001/VSCdnoises_matrixcomplex_mat\n",
      "D:/TT/Memoria/CodigoFuenteNormalized/codigo_matlab/codigo_fuente/signals_LDS_Norm/TEC/2_KNOW1001/VSCinoises_matrixcomplex_mat\n",
      "Total de archivos a analizar ->  15\n",
      "Procesamiento completado: VSCi lado izquierdo.\n",
      "TEC/3_ALI0\n",
      "D:/TT/Memoria/CodigoFuenteNormalized/codigo_matlab/codigo_fuente/signals_LDS_Norm/TEC/3_ALI0/PAMnoises_matrixcomplex_mat\n",
      "D:/TT/Memoria/CodigoFuenteNormalized/codigo_matlab/codigo_fuente/signals_LDS_Norm/TEC/3_ALI0/VSCdnoises_matrixcomplex_mat\n",
      "D:/TT/Memoria/CodigoFuenteNormalized/codigo_matlab/codigo_fuente/signals_LDS_Norm/TEC/3_ALI0/VSCinoises_matrixcomplex_mat\n",
      "Total de archivos a analizar ->  15\n",
      "Procesamiento completado: VSCi lado izquierdo.\n",
      "TEC/4_BUTL\n",
      "D:/TT/Memoria/CodigoFuenteNormalized/codigo_matlab/codigo_fuente/signals_LDS_Norm/TEC/4_BUTL/PAMnoises_matrixcomplex_mat\n",
      "D:/TT/Memoria/CodigoFuenteNormalized/codigo_matlab/codigo_fuente/signals_LDS_Norm/TEC/4_BUTL/VSCdnoises_matrixcomplex_mat\n",
      "D:/TT/Memoria/CodigoFuenteNormalized/codigo_matlab/codigo_fuente/signals_LDS_Norm/TEC/4_BUTL/VSCinoises_matrixcomplex_mat\n",
      "Total de archivos a analizar ->  15\n",
      "Procesamiento completado: VSCi lado izquierdo.\n",
      "TEC/5_HAGG\n",
      "D:/TT/Memoria/CodigoFuenteNormalized/codigo_matlab/codigo_fuente/signals_LDS_Norm/TEC/5_HAGG/PAMnoises_matrixcomplex_mat\n",
      "D:/TT/Memoria/CodigoFuenteNormalized/codigo_matlab/codigo_fuente/signals_LDS_Norm/TEC/5_HAGG/VSCdnoises_matrixcomplex_mat\n",
      "D:/TT/Memoria/CodigoFuenteNormalized/codigo_matlab/codigo_fuente/signals_LDS_Norm/TEC/5_HAGG/VSCinoises_matrixcomplex_mat\n",
      "Total de archivos a analizar ->  15\n",
      "Procesamiento completado: VSCi lado izquierdo.\n",
      "TEC/6_HASTI007\n",
      "D:/TT/Memoria/CodigoFuenteNormalized/codigo_matlab/codigo_fuente/signals_LDS_Norm/TEC/6_HASTI007/PAMnoises_matrixcomplex_mat\n",
      "D:/TT/Memoria/CodigoFuenteNormalized/codigo_matlab/codigo_fuente/signals_LDS_Norm/TEC/6_HASTI007/VSCdnoises_matrixcomplex_mat\n",
      "D:/TT/Memoria/CodigoFuenteNormalized/codigo_matlab/codigo_fuente/signals_LDS_Norm/TEC/6_HASTI007/VSCinoises_matrixcomplex_mat\n",
      "Total de archivos a analizar ->  15\n",
      "Procesamiento completado: VSCi lado izquierdo.\n",
      "TEC/7_BOAM\n",
      "D:/TT/Memoria/CodigoFuenteNormalized/codigo_matlab/codigo_fuente/signals_LDS_Norm/TEC/7_BOAM/PAMnoises_matrixcomplex_mat\n",
      "D:/TT/Memoria/CodigoFuenteNormalized/codigo_matlab/codigo_fuente/signals_LDS_Norm/TEC/7_BOAM/VSCdnoises_matrixcomplex_mat\n",
      "D:/TT/Memoria/CodigoFuenteNormalized/codigo_matlab/codigo_fuente/signals_LDS_Norm/TEC/7_BOAM/VSCinoises_matrixcomplex_mat\n",
      "Total de archivos a analizar ->  15\n",
      "Procesamiento completado: VSCi lado izquierdo.\n",
      "TEC/8_DANE0005\n",
      "D:/TT/Memoria/CodigoFuenteNormalized/codigo_matlab/codigo_fuente/signals_LDS_Norm/TEC/8_DANE0005/PAMnoises_matrixcomplex_mat\n",
      "D:/TT/Memoria/CodigoFuenteNormalized/codigo_matlab/codigo_fuente/signals_LDS_Norm/TEC/8_DANE0005/VSCdnoises_matrixcomplex_mat\n",
      "D:/TT/Memoria/CodigoFuenteNormalized/codigo_matlab/codigo_fuente/signals_LDS_Norm/TEC/8_DANE0005/VSCinoises_matrixcomplex_mat\n",
      "Total de archivos a analizar ->  15\n",
      "Procesamiento completado: VSCi lado izquierdo.\n",
      "TEC/9_GREG\n",
      "D:/TT/Memoria/CodigoFuenteNormalized/codigo_matlab/codigo_fuente/signals_LDS_Norm/TEC/9_GREG/PAMnoises_matrixcomplex_mat\n",
      "D:/TT/Memoria/CodigoFuenteNormalized/codigo_matlab/codigo_fuente/signals_LDS_Norm/TEC/9_GREG/VSCdnoises_matrixcomplex_mat\n",
      "D:/TT/Memoria/CodigoFuenteNormalized/codigo_matlab/codigo_fuente/signals_LDS_Norm/TEC/9_GREG/VSCinoises_matrixcomplex_mat\n",
      "Total de archivos a analizar ->  15\n",
      "Procesamiento completado: VSCi lado izquierdo.\n",
      "TEC/10_AITK\n",
      "D:/TT/Memoria/CodigoFuenteNormalized/codigo_matlab/codigo_fuente/signals_LDS_Norm/TEC/10_AITK/PAMnoises_matrixcomplex_mat\n",
      "D:/TT/Memoria/CodigoFuenteNormalized/codigo_matlab/codigo_fuente/signals_LDS_Norm/TEC/10_AITK/VSCdnoises_matrixcomplex_mat\n",
      "D:/TT/Memoria/CodigoFuenteNormalized/codigo_matlab/codigo_fuente/signals_LDS_Norm/TEC/10_AITK/VSCinoises_matrixcomplex_mat\n",
      "Total de archivos a analizar ->  15\n",
      "Procesamiento completado: VSCi lado izquierdo.\n",
      "TEC/11_RANS0000\n",
      "D:/TT/Memoria/CodigoFuenteNormalized/codigo_matlab/codigo_fuente/signals_LDS_Norm/TEC/11_RANS0000/PAMnoises_matrixcomplex_mat\n",
      "D:/TT/Memoria/CodigoFuenteNormalized/codigo_matlab/codigo_fuente/signals_LDS_Norm/TEC/11_RANS0000/VSCdnoises_matrixcomplex_mat\n",
      "D:/TT/Memoria/CodigoFuenteNormalized/codigo_matlab/codigo_fuente/signals_LDS_Norm/TEC/11_RANS0000/VSCinoises_matrixcomplex_mat\n",
      "Total de archivos a analizar ->  15\n",
      "Procesamiento completado: VSCi lado izquierdo.\n",
      "TEC/12_JONES004\n",
      "D:/TT/Memoria/CodigoFuenteNormalized/codigo_matlab/codigo_fuente/signals_LDS_Norm/TEC/12_JONES004/PAMnoises_matrixcomplex_mat\n",
      "D:/TT/Memoria/CodigoFuenteNormalized/codigo_matlab/codigo_fuente/signals_LDS_Norm/TEC/12_JONES004/VSCdnoises_matrixcomplex_mat\n",
      "D:/TT/Memoria/CodigoFuenteNormalized/codigo_matlab/codigo_fuente/signals_LDS_Norm/TEC/12_JONES004/VSCinoises_matrixcomplex_mat\n",
      "Total de archivos a analizar ->  15\n",
      "Procesamiento completado: VSCi lado izquierdo.\n",
      "TEC/13_PERR\n",
      "D:/TT/Memoria/CodigoFuenteNormalized/codigo_matlab/codigo_fuente/signals_LDS_Norm/TEC/13_PERR/PAMnoises_matrixcomplex_mat\n",
      "D:/TT/Memoria/CodigoFuenteNormalized/codigo_matlab/codigo_fuente/signals_LDS_Norm/TEC/13_PERR/VSCdnoises_matrixcomplex_mat\n",
      "D:/TT/Memoria/CodigoFuenteNormalized/codigo_matlab/codigo_fuente/signals_LDS_Norm/TEC/13_PERR/VSCinoises_matrixcomplex_mat\n",
      "Total de archivos a analizar ->  15\n",
      "Procesamiento completado: VSCi lado izquierdo.\n",
      "TEC/14_SLAC\n",
      "D:/TT/Memoria/CodigoFuenteNormalized/codigo_matlab/codigo_fuente/signals_LDS_Norm/TEC/14_SLAC/PAMnoises_matrixcomplex_mat\n",
      "D:/TT/Memoria/CodigoFuenteNormalized/codigo_matlab/codigo_fuente/signals_LDS_Norm/TEC/14_SLAC/VSCdnoises_matrixcomplex_mat\n",
      "D:/TT/Memoria/CodigoFuenteNormalized/codigo_matlab/codigo_fuente/signals_LDS_Norm/TEC/14_SLAC/VSCinoises_matrixcomplex_mat\n",
      "Total de archivos a analizar ->  15\n",
      "Procesamiento completado: VSCi lado izquierdo.\n",
      "TEC/15_HEPPL010\n",
      "D:/TT/Memoria/CodigoFuenteNormalized/codigo_matlab/codigo_fuente/signals_LDS_Norm/TEC/15_HEPPL010/PAMnoises_matrixcomplex_mat\n",
      "D:/TT/Memoria/CodigoFuenteNormalized/codigo_matlab/codigo_fuente/signals_LDS_Norm/TEC/15_HEPPL010/VSCdnoises_matrixcomplex_mat\n",
      "D:/TT/Memoria/CodigoFuenteNormalized/codigo_matlab/codigo_fuente/signals_LDS_Norm/TEC/15_HEPPL010/VSCinoises_matrixcomplex_mat\n",
      "Total de archivos a analizar ->  15\n",
      "Procesamiento completado: VSCi lado izquierdo.\n",
      "TEC/16_RICHS010\n",
      "D:/TT/Memoria/CodigoFuenteNormalized/codigo_matlab/codigo_fuente/signals_LDS_Norm/TEC/16_RICHS010/PAMnoises_matrixcomplex_mat\n",
      "D:/TT/Memoria/CodigoFuenteNormalized/codigo_matlab/codigo_fuente/signals_LDS_Norm/TEC/16_RICHS010/VSCdnoises_matrixcomplex_mat\n",
      "D:/TT/Memoria/CodigoFuenteNormalized/codigo_matlab/codigo_fuente/signals_LDS_Norm/TEC/16_RICHS010/VSCinoises_matrixcomplex_mat\n",
      "Total de archivos a analizar ->  15\n",
      "Procesamiento completado: VSCi lado izquierdo.\n",
      "TEC/17_KENT0007\n",
      "D:/TT/Memoria/CodigoFuenteNormalized/codigo_matlab/codigo_fuente/signals_LDS_Norm/TEC/17_KENT0007/PAMnoises_matrixcomplex_mat\n",
      "D:/TT/Memoria/CodigoFuenteNormalized/codigo_matlab/codigo_fuente/signals_LDS_Norm/TEC/17_KENT0007/VSCdnoises_matrixcomplex_mat\n",
      "D:/TT/Memoria/CodigoFuenteNormalized/codigo_matlab/codigo_fuente/signals_LDS_Norm/TEC/17_KENT0007/VSCinoises_matrixcomplex_mat\n",
      "Total de archivos a analizar ->  15\n",
      "Procesamiento completado: VSCi lado izquierdo.\n",
      "TEC/18_STAN1002\n",
      "D:/TT/Memoria/CodigoFuenteNormalized/codigo_matlab/codigo_fuente/signals_LDS_Norm/TEC/18_STAN1002/PAMnoises_matrixcomplex_mat\n",
      "D:/TT/Memoria/CodigoFuenteNormalized/codigo_matlab/codigo_fuente/signals_LDS_Norm/TEC/18_STAN1002/VSCdnoises_matrixcomplex_mat\n",
      "D:/TT/Memoria/CodigoFuenteNormalized/codigo_matlab/codigo_fuente/signals_LDS_Norm/TEC/18_STAN1002/VSCinoises_matrixcomplex_mat\n",
      "Total de archivos a analizar ->  15\n",
      "Procesamiento completado: VSCi lado izquierdo.\n",
      "TEC/19_MCDON022\n",
      "D:/TT/Memoria/CodigoFuenteNormalized/codigo_matlab/codigo_fuente/signals_LDS_Norm/TEC/19_MCDON022/PAMnoises_matrixcomplex_mat\n",
      "D:/TT/Memoria/CodigoFuenteNormalized/codigo_matlab/codigo_fuente/signals_LDS_Norm/TEC/19_MCDON022/VSCdnoises_matrixcomplex_mat\n",
      "D:/TT/Memoria/CodigoFuenteNormalized/codigo_matlab/codigo_fuente/signals_LDS_Norm/TEC/19_MCDON022/VSCinoises_matrixcomplex_mat\n",
      "Total de archivos a analizar ->  15\n",
      "Procesamiento completado: VSCi lado izquierdo.\n",
      "TEC/20_PULL\n",
      "D:/TT/Memoria/CodigoFuenteNormalized/codigo_matlab/codigo_fuente/signals_LDS_Norm/TEC/20_PULL/PAMnoises_matrixcomplex_mat\n",
      "D:/TT/Memoria/CodigoFuenteNormalized/codigo_matlab/codigo_fuente/signals_LDS_Norm/TEC/20_PULL/VSCdnoises_matrixcomplex_mat\n",
      "D:/TT/Memoria/CodigoFuenteNormalized/codigo_matlab/codigo_fuente/signals_LDS_Norm/TEC/20_PULL/VSCinoises_matrixcomplex_mat\n",
      "Total de archivos a analizar ->  15\n",
      "Procesamiento completado: VSCi lado izquierdo.\n",
      "TEC/21_MORR1002\n",
      "D:/TT/Memoria/CodigoFuenteNormalized/codigo_matlab/codigo_fuente/signals_LDS_Norm/TEC/21_MORR1002/PAMnoises_matrixcomplex_mat\n",
      "D:/TT/Memoria/CodigoFuenteNormalized/codigo_matlab/codigo_fuente/signals_LDS_Norm/TEC/21_MORR1002/VSCdnoises_matrixcomplex_mat\n",
      "D:/TT/Memoria/CodigoFuenteNormalized/codigo_matlab/codigo_fuente/signals_LDS_Norm/TEC/21_MORR1002/VSCinoises_matrixcomplex_mat\n",
      "Total de archivos a analizar ->  15\n",
      "Procesamiento completado: VSCi lado izquierdo.\n",
      "TEC/22_PARK\n",
      "D:/TT/Memoria/CodigoFuenteNormalized/codigo_matlab/codigo_fuente/signals_LDS_Norm/TEC/22_PARK/PAMnoises_matrixcomplex_mat\n",
      "D:/TT/Memoria/CodigoFuenteNormalized/codigo_matlab/codigo_fuente/signals_LDS_Norm/TEC/22_PARK/VSCdnoises_matrixcomplex_mat\n",
      "D:/TT/Memoria/CodigoFuenteNormalized/codigo_matlab/codigo_fuente/signals_LDS_Norm/TEC/22_PARK/VSCinoises_matrixcomplex_mat\n",
      "Total de archivos a analizar ->  15\n",
      "Procesamiento completado: VSCi lado izquierdo.\n",
      "TEC/23_HIGH\n",
      "D:/TT/Memoria/CodigoFuenteNormalized/codigo_matlab/codigo_fuente/signals_LDS_Norm/TEC/23_HIGH/PAMnoises_matrixcomplex_mat\n",
      "D:/TT/Memoria/CodigoFuenteNormalized/codigo_matlab/codigo_fuente/signals_LDS_Norm/TEC/23_HIGH/VSCdnoises_matrixcomplex_mat\n",
      "D:/TT/Memoria/CodigoFuenteNormalized/codigo_matlab/codigo_fuente/signals_LDS_Norm/TEC/23_HIGH/VSCinoises_matrixcomplex_mat\n",
      "Total de archivos a analizar ->  15\n",
      "Procesamiento completado: VSCi lado izquierdo.\n",
      "TEC/24_NOBL\n",
      "D:/TT/Memoria/CodigoFuenteNormalized/codigo_matlab/codigo_fuente/signals_LDS_Norm/TEC/24_NOBL/PAMnoises_matrixcomplex_mat\n",
      "D:/TT/Memoria/CodigoFuenteNormalized/codigo_matlab/codigo_fuente/signals_LDS_Norm/TEC/24_NOBL/VSCdnoises_matrixcomplex_mat\n",
      "D:/TT/Memoria/CodigoFuenteNormalized/codigo_matlab/codigo_fuente/signals_LDS_Norm/TEC/24_NOBL/VSCinoises_matrixcomplex_mat\n",
      "Total de archivos a analizar ->  15\n",
      "Procesamiento completado: VSCi lado izquierdo.\n",
      "TEC/25_COWL\n",
      "D:/TT/Memoria/CodigoFuenteNormalized/codigo_matlab/codigo_fuente/signals_LDS_Norm/TEC/25_COWL/PAMnoises_matrixcomplex_mat\n",
      "D:/TT/Memoria/CodigoFuenteNormalized/codigo_matlab/codigo_fuente/signals_LDS_Norm/TEC/25_COWL/VSCdnoises_matrixcomplex_mat\n",
      "D:/TT/Memoria/CodigoFuenteNormalized/codigo_matlab/codigo_fuente/signals_LDS_Norm/TEC/25_COWL/VSCinoises_matrixcomplex_mat\n",
      "Total de archivos a analizar ->  15\n",
      "Procesamiento completado: VSCi lado izquierdo.\n",
      "TEC/26_KHAN\n",
      "D:/TT/Memoria/CodigoFuenteNormalized/codigo_matlab/codigo_fuente/signals_LDS_Norm/TEC/26_KHAN/PAMnoises_matrixcomplex_mat\n",
      "D:/TT/Memoria/CodigoFuenteNormalized/codigo_matlab/codigo_fuente/signals_LDS_Norm/TEC/26_KHAN/VSCdnoises_matrixcomplex_mat\n",
      "D:/TT/Memoria/CodigoFuenteNormalized/codigo_matlab/codigo_fuente/signals_LDS_Norm/TEC/26_KHAN/VSCinoises_matrixcomplex_mat\n",
      "Total de archivos a analizar ->  15\n",
      "Procesamiento completado: VSCi lado izquierdo.\n",
      "TEC/27_NOLA\n",
      "D:/TT/Memoria/CodigoFuenteNormalized/codigo_matlab/codigo_fuente/signals_LDS_Norm/TEC/27_NOLA/PAMnoises_matrixcomplex_mat\n",
      "D:/TT/Memoria/CodigoFuenteNormalized/codigo_matlab/codigo_fuente/signals_LDS_Norm/TEC/27_NOLA/VSCdnoises_matrixcomplex_mat\n",
      "D:/TT/Memoria/CodigoFuenteNormalized/codigo_matlab/codigo_fuente/signals_LDS_Norm/TEC/27_NOLA/VSCinoises_matrixcomplex_mat\n",
      "Total de archivos a analizar ->  15\n",
      "Procesamiento completado: VSCi lado izquierdo.\n"
     ]
    }
   ],
   "source": [
    "# Directorios de las matrices complejas (coeficientes) de las senales PAM ,VSCd y VSCi de suejtos sanos o pacientes con tec. Se debe modificar estos directorios para ir\n",
    "# generando los respectivos modelos de cada individuo.\n",
    "\n",
    "# DIRECTORIOS\n",
    "\n",
    "# SUJETO SANO O PACIENTE TEC POR ANALIZAR\n",
    "# DIRECTORIO ejemplo: PACIENTE TEC --> 'TEC/1_DENI1005'\n",
    "# array con nombres de sujetos sanos:\n",
    "array_sanos = ['SANOS/1_HEMU', 'SANOS/2_DAOC', 'SANOS/3_DASI', 'SANOS/4_DABA', 'SANOS/5_HEFU', 'SANOS/6_JOBO', 'SANOS/7_ROMI', 'SANOS/8_FEGA', 'SANOS/9_GAGO', 'SANOS/10_MIMO', 'SANOS/11_JULE', 'SANOS/12_NIGA', 'SANOS/13_BYLA', 'SANOS/14_ARVA', 'SANOS/15_CLSE', 'SANOS/16_PAAR', 'SANOS/17_VATO', 'SANOS/18_FEBE', 'SANOS/19_VINA', 'SANOS/20_CLHE', 'SANOS/21_MAIN', 'SANOS/22_ALSA', 'SANOS/23_MIRA', 'SANOS/24_LACA', 'SANOS/25_GOAC', 'SANOS/26_ANGL', 'SANOS/27_HC036101']\n",
    "array_tecs = ['TEC/1_DENI1005', 'TEC/2_KNOW1001', 'TEC/3_ALI0', 'TEC/4_BUTL', 'TEC/5_HAGG', 'TEC/6_HASTI007', 'TEC/7_BOAM', 'TEC/8_DANE0005', 'TEC/9_GREG', 'TEC/10_AITK', 'TEC/11_RANS0000', 'TEC/12_JONES004', 'TEC/13_PERR', 'TEC/14_SLAC', 'TEC/15_HEPPL010', 'TEC/16_RICHS010', 'TEC/17_KENT0007', 'TEC/18_STAN1002', 'TEC/19_MCDON022', 'TEC/20_PULL', 'TEC/21_MORR1002', 'TEC/22_PARK', 'TEC/23_HIGH', 'TEC/24_NOBL', 'TEC/25_COWL', 'TEC/26_KHAN', 'TEC/27_NOLA']\n",
    "\n",
    "# Sector de la VSC por analizar (derecho o izquierdo):\n",
    "type_person = array_tecs; # Tipo de arreglo a analizar (sano o tec)\n",
    "sector = 'izquierdo' # Sector del cerebro a analizar\n",
    "# CICLO PARA CREAR LOS INPUTS Y OUTPUTS TENSOR3D DE SUJETOS SANOS Y PACIENTES TEC PARA LA RED\n",
    "for persona in type_person:\n",
    "    print(persona)\n",
    "    # INPUT PARA LA RED\n",
    "    # INPUT PAM\n",
    "    input_pam_dir = 'D:/TT/Memoria/CodigoFuenteNormalized/codigo_matlab/codigo_fuente/signals_LDS_Norm/' + persona + '/PAMnoises_matrixcomplex_mat'\n",
    "    # INPUT VSCd\n",
    "    input_vscd_dir = 'D:/TT/Memoria/CodigoFuenteNormalized/codigo_matlab/codigo_fuente/signals_LDS_Norm/' + persona + '/VSCdnoises_matrixcomplex_mat'\n",
    "    # INPUT VSCI\n",
    "    input_vsci_dir = 'D:/TT/Memoria/CodigoFuenteNormalized/codigo_matlab/codigo_fuente/signals_LDS_Norm/' + persona + '/VSCinoises_matrixcomplex_mat'\n",
    "    \n",
    "    # OUTPUT O SALIDAS ESPERADAS PARA LA RED\n",
    "    # OUTPUT PAM\n",
    "    output_pam_dir = 'D:/TT/Memoria/CodigoFuenteNormalized/codigo_matlab/codigo_fuente/signals_LDS_Norm/' + persona + '/PAMnoises_matrixcomplex_npy'\n",
    "    # OUTPUT PAM\n",
    "    output_vscd_dir = 'D:/TT/Memoria/CodigoFuenteNormalized/codigo_matlab/codigo_fuente/signals_LDS_Norm/' + persona + '/VSCdnoises_matrixcomplex_npy'\n",
    "    # OUTPUT PAM\n",
    "    output_vsci_dir = 'D:/TT/Memoria/CodigoFuenteNormalized/codigo_matlab/codigo_fuente/signals_LDS_Norm/' + persona + '/VSCinoises_matrixcomplex_npy'\n",
    "    \n",
    "    #######################################################################################################################################################\n",
    "    #######################################################################################################################################################\n",
    "    #######################################################################################################################################################\n",
    "    print(input_pam_dir)\n",
    "    print(input_vscd_dir)\n",
    "    print(input_vsci_dir)\n",
    "    \n",
    "    #Crear los directorios de salida si no existen\n",
    "    os.makedirs(output_pam_dir, exist_ok=True) # DIRECTORIO PARA GUARDAR MATRICES COMPLEJAS DE PAM EN FORMATO .npy\n",
    "    os.makedirs(output_vscd_dir, exist_ok=True) # DIRECTORIO PARA GUARDAR MATRICES COMPLEJAS DE VSCd EN FORMATO .npy\n",
    "    os.makedirs(output_vsci_dir, exist_ok=True) # DIRECTORIO PARA GUARDAR MATRICES COMPLEJAS DE VSCi EN FORMATO .npy\n",
    "    \n",
    "    #Funcion para convertir archivos .mat a .npy\n",
    "    total_files=sum(1 for filename in os.listdir(input_pam_dir) if filename.endswith('.mat')) + 1\n",
    "    print(\"Total de archivos a analizar -> \",total_files-1)\n",
    "    \n",
    "    #Convertir archivos .mat a .npy para PAM y VSC\n",
    "    convert_mat_to_npy(input_pam_dir, output_pam_dir, 'matrix_complex_pam')\n",
    "    convert_mat_to_npy(input_vscd_dir, output_vscd_dir, 'matrix_complex_vscd')\n",
    "    convert_mat_to_npy(input_vsci_dir, output_vsci_dir, 'matrix_complex_vsci')\n",
    "    \n",
    "    #Conversion a tensor tridimensional (Estructura adecuada para entrenar la red U-net)\n",
    "    #Directorios salida para matrices con estructura tensor tridimensional\n",
    "    input_pam_dir = 'D:/TT/Memoria/CodigoFuenteNormalized/codigo_matlab/codigo_fuente/signals_LDS_Norm/' + persona + '/PAMnoises_matrixcomplex_npy'\n",
    "    input_vscd_dir = 'D:/TT/Memoria/CodigoFuenteNormalized/codigo_matlab/codigo_fuente/signals_LDS_Norm/' + persona + '/VSCdnoises_matrixcomplex_npy'\n",
    "    input_vsci_dir = 'D:/TT/Memoria/CodigoFuenteNormalized/codigo_matlab/codigo_fuente/signals_LDS_Norm/' + persona + '/VSCinoises_matrixcomplex_npy'\n",
    "    \n",
    "    output_pam_dir = 'D:/TT/Memoria/CodigoFuenteNormalized/codigo_matlab/codigo_fuente/signals_LDS_Norm/' + persona + '/PAMnoises_matrixcomplex_npy_tensor3d'\n",
    "    output_vscd_dir = 'D:/TT/Memoria/CodigoFuenteNormalized/codigo_matlab/codigo_fuente/signals_LDS_Norm/' + persona + '/VSCdnoises_matrixcomplex_npy_tensor3d'\n",
    "    output_vsci_dir = 'D:/TT/Memoria/CodigoFuenteNormalized/codigo_matlab/codigo_fuente/signals_LDS_Norm/' + persona + '/VSCinoises_matrixcomplex_npy_tensor3d'\n",
    "    \n",
    "    #Crear directorios de salida si no existen (matrices complejas en forma de tensor tridimensional)\n",
    "    os.makedirs(output_pam_dir, exist_ok=True)\n",
    "    os.makedirs(output_vscd_dir, exist_ok=True)\n",
    "    os.makedirs(output_vsci_dir, exist_ok=True)\n",
    "    \n",
    "    #PROCESAR MATRICES COMPLEJAS EN LA CARPETA input_pam_dir y procesar matrices mediante una normalización\n",
    "    for filename in os.listdir(input_pam_dir):\n",
    "        if filename.endswith('.npy'):\n",
    "            input_path = os.path.join(input_pam_dir, filename)\n",
    "            output_path = os.path.join(output_pam_dir, filename)\n",
    "            \n",
    "            # Cargar la matriz compleja\n",
    "            matriz_compleja = np.load(input_path)\n",
    "            \n",
    "            # Procesar la matriz compleja segun una normalizacion\n",
    "            datos_organizados = procesar_matriz_compleja_pam(matriz_compleja)\n",
    "            \n",
    "            # Guardar los datos procesados\n",
    "            np.save(output_path, datos_organizados)\n",
    "    \n",
    "    #PROCESAR MATRICES COMPLEJAS EN LA CARPETA input_vscd_dir\n",
    "    if sector == 'derecho':\n",
    "        for filename in os.listdir(input_vscd_dir):\n",
    "            if filename.endswith('.npy'):\n",
    "                input_path = os.path.join(input_vscd_dir, filename)\n",
    "                output_path = os.path.join(output_vscd_dir, filename)\n",
    "                \n",
    "                # Cargar la matriz compleja\n",
    "                matriz_compleja = np.load(input_path)\n",
    "                \n",
    "                # Procesar la matriz compleja segun una normalizacion\n",
    "                datos_organizados = procesar_matriz_compleja_vsc(matriz_compleja)\n",
    "                \n",
    "                # Guardar los datos procesados\n",
    "                np.save(output_path, datos_organizados)\n",
    "                \n",
    "        print(\"Procesamiento completado: VSCd lado derecho.\")\n",
    "        \n",
    "    else:    \n",
    "        for filename in os.listdir(input_vsci_dir):\n",
    "            if filename.endswith('.npy'):\n",
    "                input_path = os.path.join(input_vsci_dir, filename)\n",
    "                output_path = os.path.join(output_vsci_dir, filename)\n",
    "                \n",
    "                # Cargar la matriz compleja\n",
    "                matriz_compleja = np.load(input_path)\n",
    "                \n",
    "                # Procesar la matriz compleja segun una normalizacion\n",
    "                datos_organizados = procesar_matriz_compleja_vsc(matriz_compleja)\n",
    "                \n",
    "                # Guardar los datos procesados\n",
    "                np.save(output_path, datos_organizados)\n",
    "                \n",
    "        print(\"Procesamiento completado: VSCi lado izquierdo.\")\n",
    "    \n",
    "    #Verificacion de \"shape\" - matrices pam y vsc\n",
    "    #Directorios de salida a verificar\n",
    "    #output_pam_dir_check = 'D:/TT/Memoria/MemoriaCodigoFuentev3/codigo_matlab/codigo_fuente/signals_LDS/' + persona + '/PAMnoises_matrixcomplex_npy_tensor3d'\n",
    "    #output_vscd_dir_check = 'D:/TT/Memoria/MemoriaCodigoFuentev3/codigo_matlab/codigo_fuente/signals_LDS/' + persona + '/VSCdnoises_matrixcomplex_npy_tensor3d'\n",
    "    #output_vsci_dir_check = 'D:/TT/Memoria/MemoriaCodigoFuentev3/codigo_matlab/codigo_fuente/signals_LDS/' + persona + '/VSCinoises_matrixcomplex_npy_tensor3d'\n"
   ]
  },
  {
   "cell_type": "markdown",
   "metadata": {},
   "source": [
    "Verificar la forma de un archivo de ejemplo en output_pam_dir_check"
   ]
  },
  {
   "cell_type": "markdown",
   "metadata": {},
   "source": [
    "ejemplo_pam = os.listdir(output_pam_dir_check)[0]  # Obtener el primer archivo de la carpeta\n",
    "shape_pam = verificar_shape(output_pam_dir_check, ejemplo_pam)\n",
    "print(f\"Shape de {ejemplo_pam} en {output_pam_dir_check}: {shape_pam}\")"
   ]
  },
  {
   "cell_type": "markdown",
   "metadata": {},
   "source": [
    "Verificar la forma de un archivo de ejemplo en output_vscd_dir_check o output_vsci_dir_check"
   ]
  },
  {
   "cell_type": "markdown",
   "metadata": {},
   "source": [
    "if sector == 'derecho':\n",
    "    ejemplo_vscd = os.listdir(output_vscd_dir_check)[0]  # Obtener el primer archivo de la carpeta\n",
    "    shape_vscd = verificar_shape(output_vscd_dir_check, ejemplo_vscd)\n",
    "    print(f\"Shape de {ejemplo_vscd} en {output_vscd_dir_check}: {shape_vscd}\")\n",
    "else:   \n",
    "    ejemplo_vsci = os.listdir(output_vsci_dir_check)[0]  # Obtener el primer archivo de la carpeta\n",
    "    shape_vsci = verificar_shape(output_vsci_dir_check, ejemplo_vsci)\n",
    "    print(f\"Shape de {ejemplo_vsci} en {output_vsci_dir_check}: {shape_vsci}\")"
   ]
  },
  {
   "cell_type": "markdown",
   "metadata": {},
   "source": [
    "************************************************************************ *Red Neuronal Profunda: U-net* ***************************************************************************"
   ]
  },
  {
   "cell_type": "markdown",
   "metadata": {},
   "source": [
    "Directorios de entrada"
   ]
  },
  {
   "cell_type": "markdown",
   "metadata": {},
   "source": [
    "# SENAL PAM\n",
    "input_pam_dir = 'D:/TT/Memoria/MemoriaCodigoFuentev3/codigo_matlab/codigo_fuente/signals_LDS/' + persona + '/PAMnoises_matrixcomplex_npy_tensor3d'\n",
    "# VSC LADO DERECHO\n",
    "output_vscd_dir = 'D:/TT/Memoria/MemoriaCodigoFuentev3/codigo_matlab/codigo_fuente/signals_LDS/' + persona + '/VSCdnoises_matrixcomplex_npy_tensor3d'\n",
    "# VSC LADO IZQUIERDO\n",
    "output_vsci_dir = 'D:/TT/Memoria/MemoriaCodigoFuentev3/codigo_matlab/codigo_fuente/signals_LDS/' + persona + '/VSCinoises_matrixcomplex_npy_tensor3d'"
   ]
  },
  {
   "cell_type": "markdown",
   "metadata": {},
   "source": [
    "Funcion para cargar los archivos .npy"
   ]
  },
  {
   "cell_type": "markdown",
   "metadata": {},
   "source": [
    "def load_npy_files(input_dir):\n",
    "    files = sorted([os.path.join(input_dir, f) for f in os.listdir(input_dir) if f.endswith('.npy')])\n",
    "     # verificar orden con que entrar los archivos en X e Y\n",
    "    file_names = [os.path.basename(f) for f in files]\n",
    "    print(f\"Archivos: {file_names}\\n\")\n",
    "    data = [np.load(f) for f in files]\n",
    "    return np.array(data)"
   ]
  },
  {
   "cell_type": "markdown",
   "metadata": {},
   "source": [
    "CARGA DE DATOS DE ENTRADAS Y SALIDAS PARA LA RED (X: INPUTS; Y: OUTPUTS)"
   ]
  },
  {
   "cell_type": "markdown",
   "metadata": {},
   "source": [
    "# Se identifica que sector del cerebro se desea analizar:\n",
    "lado = ''\n",
    "if sector == 'derecho':\n",
    "    X = load_npy_files(input_pam_dir) # inputs\n",
    "    Y = load_npy_files(output_vscd_dir) # outputs\n",
    "    lado = 'vscd'\n",
    "    print('Modelo para VSC: sector derecho del cerebro.\\n')\n",
    "else:\n",
    "    X = load_npy_files(input_pam_dir) # inputs\n",
    "    Y = load_npy_files(output_vsci_dir) # outputs\n",
    "    lado = 'vsci'\n",
    "    print('Modelo para VSC: sector izquierdo del cerebro.\\n')\n",
    "print('Abreviacion de sector a estudiar:', lado)"
   ]
  },
  {
   "cell_type": "markdown",
   "metadata": {},
   "source": [
    "Verificar las formas de los datos cargados (# entradas, filas, columnas, canales)"
   ]
  },
  {
   "cell_type": "markdown",
   "metadata": {},
   "source": [
    "print(f\"Shape de los inputs (X): {X.shape}\")\n",
    "print(f\"Shape de los outputs (Y): {Y.shape}\")"
   ]
  },
  {
   "cell_type": "markdown",
   "metadata": {},
   "source": [
    "Definir la U-Net"
   ]
  },
  {
   "cell_type": "markdown",
   "metadata": {},
   "source": [
    "'''\n",
    "def unet_model_with_l2(input_shape, l2_lambda):\n",
    "    inputs = tf.keras.Input(shape=input_shape)\n",
    "    \n",
    "    # Regularizer\n",
    "    l2_reg = tf.keras.regularizers.l2(l2_lambda)\n",
    "    \n",
    "    # Encoder\n",
    "    c1 = tf.keras.layers.Conv2D(64, (3, 3), activation='relu', padding='same', kernel_regularizer=l2_reg)(inputs)\n",
    "    c1 = tf.keras.layers.Conv2D(64, (3, 3), activation='relu', padding='same', kernel_regularizer=l2_reg)(c1)\n",
    "    p1 = tf.keras.layers.MaxPooling2D((2, 2))(c1)\n",
    "    \n",
    "    c2 = tf.keras.layers.Conv2D(128, (3, 3), activation='relu', padding='same', kernel_regularizer=l2_reg)(p1)\n",
    "    c2 = tf.keras.layers.Conv2D(128, (3, 3), activation='relu', padding='same', kernel_regularizer=l2_reg)(c2)\n",
    "    p2 = tf.keras.layers.MaxPooling2D((2, 2))(c2)\n",
    "    \n",
    "    # Bottleneck\n",
    "    c3 = tf.keras.layers.Conv2D(256, (3, 3), activation='relu', padding='same', kernel_regularizer=l2_reg)(p2)\n",
    "    c3 = tf.keras.layers.Conv2D(256, (3, 3), activation='relu', padding='same', kernel_regularizer=l2_reg)(c3)\n",
    "    \n",
    "    # Decoder\n",
    "    u4 = tf.keras.layers.Conv2DTranspose(128, (2, 2), strides=(2, 2), padding='same')(c3)\n",
    "    u4 = tf.keras.layers.concatenate([u4, c2])\n",
    "    c4 = tf.keras.layers.Conv2D(128, (3, 3), activation='relu', padding='same', kernel_regularizer=l2_reg)(u4)\n",
    "    c4 = tf.keras.layers.Conv2D(128, (3, 3), activation='relu', padding='same', kernel_regularizer=l2_reg)(c4)\n",
    "    \n",
    "    u5 = tf.keras.layers.Conv2DTranspose(64, (2, 2), strides=(2, 2), padding='same')(c4)\n",
    "    u5 = tf.keras.layers.concatenate([u5, c1])\n",
    "    c5 = tf.keras.layers.Conv2D(64, (3, 3), activation='relu', padding='same', kernel_regularizer=l2_reg)(u5)\n",
    "    c5 = tf.keras.layers.Conv2D(64, (3, 3), activation='relu', padding='same', kernel_regularizer=l2_reg)(c5)\n",
    "    \n",
    "    outputs = tf.keras.layers.Conv2D(2, (1, 1), activation='linear')(c5)\n",
    "    \n",
    "    model = tf.keras.Model(inputs=[inputs], outputs=[outputs])\n",
    "    \n",
    "    return model\n",
    "'''\n",
    "\n",
    "def unet_model(input_shape):\n",
    "    inputs = tf.keras.Input(shape=input_shape)\n",
    "    \n",
    "    # Regularizer\n",
    "    #l2_reg = tf.keras.regularizers.l2(l2_lambda)\n",
    "    \n",
    "    # Encoder\n",
    "    c1 = tf.keras.layers.Conv2D(64, (3, 3), activation='relu', padding='same')(inputs) #filtro original=64\n",
    "    c1 = tf.keras.layers.Conv2D(64, (3, 3), activation='relu', padding='same')(c1) #filtro original=64\n",
    "    p1 = tf.keras.layers.MaxPooling2D((2, 2))(c1)\n",
    "    \n",
    "    c2 = tf.keras.layers.Conv2D(128, (3, 3), activation='relu', padding='same')(p1) #filtro original=128\n",
    "    c2 = tf.keras.layers.Conv2D(128, (3, 3), activation='relu', padding='same')(c2) #filtro original=128\n",
    "    p2 = tf.keras.layers.MaxPooling2D((2, 2))(c2)\n",
    "    \n",
    "    # Bottleneck\n",
    "    c3 = tf.keras.layers.Conv2D(256, (3, 3), activation='relu', padding='same')(p2) #filtro original=256\n",
    "    c3 = tf.keras.layers.Conv2D(256, (3, 3), activation='relu', padding='same')(c3) #filtro original=256\n",
    "    \n",
    "    # Decoder\n",
    "    u4 = tf.keras.layers.Conv2DTranspose(128, (2, 2), strides=(2, 2), padding='same')(c3) #filtro original=128\n",
    "    u4 = tf.keras.layers.concatenate([u4, c2])\n",
    "    c4 = tf.keras.layers.Conv2D(128, (3, 3), activation='relu', padding='same')(u4) #filtro original=128\n",
    "    c4 = tf.keras.layers.Conv2D(128, (3, 3), activation='relu', padding='same')(c4) #filtro original=128\n",
    "    \n",
    "    u5 = tf.keras.layers.Conv2DTranspose(64, (2, 2), strides=(2, 2), padding='same')(c4) #filtro original=64\n",
    "    u5 = tf.keras.layers.concatenate([u5, c1])\n",
    "    c5 = tf.keras.layers.Conv2D(64, (3, 3), activation='relu', padding='same')(u5) #filtro original=64\n",
    "    c5 = tf.keras.layers.Conv2D(64, (3, 3), activation='relu', padding='same')(c5) #filtro original=64\n",
    "    \n",
    "    outputs = tf.keras.layers.Conv2D(2, (1, 1), activation='linear')(c5)\n",
    "    \n",
    "    model = tf.keras.Model(inputs=[inputs], outputs=[outputs])\n",
    "    \n",
    "    return model"
   ]
  },
  {
   "cell_type": "markdown",
   "metadata": {},
   "source": [
    "Definir la metrica NMSE ajustada para utilizar la varianza de los valores verdaderos"
   ]
  },
  {
   "cell_type": "markdown",
   "metadata": {},
   "source": [
    "def nmse(y_true, y_pred):\n",
    "    mse = tf.keras.backend.mean(tf.keras.backend.square(y_true - y_pred))\n",
    "    var_true = tf.keras.backend.var(y_true)\n",
    "    return mse / var_true"
   ]
  },
  {
   "cell_type": "markdown",
   "metadata": {
    "tags": []
   },
   "source": [
    "**HIPERPARAMETROS**"
   ]
  },
  {
   "cell_type": "markdown",
   "metadata": {},
   "source": [
    "max_epoch = 200\n",
    "batchsize = 8\n",
    "learning_rate = 0.0001\n",
    "#l2_lambda = 0.01\n",
    "validation_split = 0.2 # 80% entrenamiento & 20% validacion\n",
    "\n",
    "\n",
    " # alpha: el lr min al que llegara el decaimiento sera el 10% del lr inicia\n",
    "#alpha = 0.1\n",
    "# decay steps: Numero de pasos de entrenamiento tras los cuales el learning rate decaera desde su valor inicial hasta el valor final determinado por alpha\n",
    "#decay_steps = (int(X.shape[0]/batchsize))*max_epoch \n",
    "#print(\"Total pasos de decaimiento ->\",decay_steps, \"pasos.\")"
   ]
  },
  {
   "cell_type": "markdown",
   "metadata": {},
   "source": [
    "**CREACIÓN DEL MODELO U-NET**"
   ]
  },
  {
   "cell_type": "markdown",
   "metadata": {},
   "source": [
    "input_shape = X.shape[1:]  # forma del input a entrar. en este caso esta forma debe coincidir con las matrices que entran a la red tensor X = [#inputs, columnas, filas, canales]. Se omite #inputs\n",
    "model = unet_model(input_shape)"
   ]
  },
  {
   "cell_type": "markdown",
   "metadata": {},
   "source": [
    "**DEFINICION DE LA FUNCION DE DECAIMIENTO, ALGORITMO OPTIMIZADOR, FUNCION DE PERDIDA Y METRICA**"
   ]
  },
  {
   "cell_type": "markdown",
   "metadata": {},
   "source": [
    "#funcion decaimiento de coseno\n",
    "decay_cosine = tf.keras.experimental.CosineDecay(learning_rate, decay_steps)\n",
    "def lr_schedule(X):\n",
    "    return float(decay_cosine(X))\n",
    "    \n",
    "\n",
    "lr_scheduler = tf.keras.callbacks.LearningRateScheduler(lr_schedule)"
   ]
  },
  {
   "cell_type": "markdown",
   "metadata": {},
   "source": [
    "optimizer = tf.keras.optimizers.Adam(learning_rate)\n",
    "model.compile(optimizer='adam', loss='mean_squared_error', metrics=[nmse])"
   ]
  },
  {
   "cell_type": "markdown",
   "metadata": {},
   "source": [
    "#########################################################################################################<br>\n",
    "#########################################################################################################<br>\n",
    "#########################################################################################################"
   ]
  },
  {
   "cell_type": "markdown",
   "metadata": {},
   "source": [
    "ENTRENAMIENTO DE LA RED"
   ]
  },
  {
   "cell_type": "markdown",
   "metadata": {},
   "source": [
    "start_time = time.time()\n",
    "#history = model.fit(X, Y, epochs=max_epoch, batch_size=batchsize, callbacks=[lr_scheduler], validation_split=validation_split)\n",
    "history = model.fit(X, Y, epochs=max_epoch, batch_size=batchsize, validation_split=validation_split)\n",
    "end_time = time.time()\n",
    "total_time = end_time - start_time\n",
    "min_time = total_time / 60\n",
    "print(f'Tiempo total de entrenamiento: {min_time:.2f} minutos.')"
   ]
  },
  {
   "cell_type": "markdown",
   "metadata": {},
   "source": [
    "#########################################################################################################<br>\n",
    "#########################################################################################################<br>\n",
    "#########################################################################################################"
   ]
  },
  {
   "cell_type": "markdown",
   "metadata": {},
   "source": [
    "Visualizar el NMSE"
   ]
  },
  {
   "cell_type": "markdown",
   "metadata": {},
   "source": [
    "plt.plot(history.history['nmse'], label='NMSE (entrenamiento)')\n",
    "plt.plot(history.history['val_nmse'], label='NMSE (validacion)')\n",
    "plt.xlabel('Epoca')\n",
    "plt.ylabel('NMSE')\n",
    "plt.legend()\n",
    "\n",
    "# Guardar grafica de curvas NMSE\n",
    "\n",
    "# Directorio y nombre del archivo\n",
    "output_dir_graphic = 'D:/TT/Memoria/MemoriaCodigoFuentev3/codigo_matlab/codigo_fuente/signals_LDS/' + persona  # Reemplaza con tu directorio\n",
    "output_file_graphic =  'unet_model_' + lado + '_' + sector + '_graphic.png'  # Reemplaza con tu nombre de archivo\n",
    "\n",
    "# Guardar el gráfico\n",
    "output_path_graphic = f'{output_dir_graphic}/{output_file_graphic}'\n",
    "plt.savefig(output_path_graphic, format='png')\n",
    "plt.show()"
   ]
  },
  {
   "cell_type": "markdown",
   "metadata": {},
   "source": [
    "**GUARDAR UN MODELO ESPECÍFICO**"
   ]
  },
  {
   "cell_type": "markdown",
   "metadata": {},
   "source": [
    "# Directorio en donde se almacenara el modelo\n",
    "save_dir = 'D:/TT/Memoria/MemoriaCodigoFuentev3/codigo_matlab/codigo_fuente/signals_LDS/' + persona\n",
    "os.makedirs(save_dir, exist_ok=True)  # Crear el directorio si no existe\n",
    "\n",
    "# Nombre del archivo del modelo\n",
    "model_name = 'unet_model_' + lado + '_' + sector + '.keras'\n",
    "\n",
    "# Ruta completa del archivo\n",
    "model_path = os.path.join(save_dir, model_name)\n",
    "\n",
    "# Guardar el modelo entrenado\n",
    "model.save(model_path)"
   ]
  },
  {
   "cell_type": "markdown",
   "metadata": {},
   "source": [
    "**CARGAR UN MODELO ESPECÍFICO**"
   ]
  },
  {
   "cell_type": "markdown",
   "metadata": {},
   "source": [
    "modelo_cargado = tf.keras.models.load_model('D:/TT/Memoria/waveletycnn/codigo_python/modelos_generados/unet_model_7.keras',\n",
    "                                           custom_objects={'nmse': nmse})"
   ]
  },
  {
   "cell_type": "markdown",
   "metadata": {},
   "source": [
    "**CARGAR COEFICIENTES (MATRIZ COMPLEJA) DE LA SEÑALES PAM ORIGINALES T OBTENER CANTIDAD DE MATRICES COMPLEJAS ENCONTRADAS**"
   ]
  },
  {
   "cell_type": "markdown",
   "metadata": {},
   "source": [
    "input_matrix_complex_pam_dir = 'D:/TT/Memoria/waveletycnn/codigo_python/inputs_coeficientes' # coeficientes de senal PAM original (sin ruido) en formato .mat\n",
    "output_matrix_complex_pam_dir = 'D:/TT/Memoria/waveletycnn/codigo_python/inputs_coeficientes_npy' # coeficientes de senal PAM original (sin ruido) en formato .npy\n",
    "os.makedirs(output_matrix_complex_pam_dir, exist_ok=True) # crear directorio \"output_matrix_complex_pam_dir\" si no existe\n",
    "\n",
    "# Se leen la cantidad de coeficientes o matrices complejas de senales PAM encontradas en el directorio \"input_matrix_complex_pam_dir\"\n",
    "total_matrix_complex_pam = sum(1 for filename in os.listdir(input_matrix_complex_pam_dir) if filename.endswith('.mat')) + 1\n",
    "print(\"Total de matrices complejas PAM encontradas -> \", total_matrix_complex_pam - 1)"
   ]
  },
  {
   "cell_type": "markdown",
   "metadata": {},
   "source": [
    "**TRANSFORMAR A FORMATO .npy LAS MATRICES COMPLEJAS ASOCIADAS A LA SEÑAL ORIGINAL PAM**"
   ]
  },
  {
   "cell_type": "markdown",
   "metadata": {},
   "source": [
    "# Funcion para convertir una matriz compleja de .mat a .npy\n",
    "def convert_mat_to_npy_original_signal(input_dir, output_dir, prefix):\n",
    "    for i in range(1, total_matrix_complex_pam):\n",
    "        mat_file = os.path.join(input_dir, f'{prefix}_{i}.mat')\n",
    "        npy_file = os.path.join(output_dir, f'{prefix}_npy_{i}.npy')\n",
    "        \n",
    "        # Cargar el archivo .mat\n",
    "        mat_data = loadmat(mat_file)\n",
    "        \n",
    "        # Extraer la matriz compleja\n",
    "        matrix_key = [key for key in mat_data.keys() if not key.startswith('__')][0]\n",
    "        matrix = mat_data[matrix_key]\n",
    "        \n",
    "        # Guardar la matriz en formato .npy\n",
    "        np.save(npy_file, matrix)"
   ]
  },
  {
   "cell_type": "markdown",
   "metadata": {},
   "source": [
    "# Convertir las matrices comlejas de senales PAM originales de formato .mat a .npy\n",
    "convert_mat_to_npy_original_signal(input_matrix_complex_pam_dir, output_matrix_complex_pam_dir, 'matrix_complex_pam_to_predict')"
   ]
  },
  {
   "cell_type": "markdown",
   "metadata": {},
   "source": [
    "**PREDECIR COEFICIENTES DE UNA SEÑAL DE VSC A PARTIR DE COEFICIENTES DE UNA SEÑAL PAM**"
   ]
  },
  {
   "cell_type": "markdown",
   "metadata": {},
   "source": [
    "# Funcion para predecir con el modelo entrenado\n",
    "def predecir_coefs(modelo_cargado, input_data):\n",
    "    coefs_predicted = modelo_cargado.predict(input_data)\n",
    "    return coefs_predicted\n"
   ]
  },
  {
   "cell_type": "markdown",
   "metadata": {},
   "source": [
    "# Listar todos los archivos en el directorio\n",
    "archivos_npy_dir = os.listdir(output_matrix_complex_pam_dir)\n",
    "# Filtrar solo los archivos .npy\n",
    "archivos_npy = [f for f in archivos_npy_dir if f.endswith('.npy')]\n",
    "\n",
    "# Cargar una matriz de entrada para hacer una prediccion \n",
    "# Leer el primer archivo .npy\n",
    "nombre_archivo_pam_npy = archivos_npy[0]\n",
    "archivo_pam_npy_dir = os.path.join(output_matrix_complex_pam_dir, nombre_archivo_pam_npy) # ELEGIR ARCHIVOS NPY A LEER (0, 1, 2, 3, 4, ...)\n",
    "\n",
    "#######################\n",
    "# ENTRADA PARA LA RED:\n",
    "######################\n",
    "input_matrix_pam = np.load(archivo_pam_npy_dir)\n",
    "print(\"Archivo cargado:\", archivo_pam_npy_dir)\n",
    "print(\"formato matrix complex input: \",input_matrix_pam.shape)\n",
    "\n",
    "tensor_input_matrix_pam = np.stack((input_matrix_pam.real, input_matrix_pam.imag), axis=-1)\n",
    "print(\"formato matrix complex input como tensor: \",tensor_input_matrix_pam.shape)\n",
    "\n",
    "# Expandir dimensiones para que coincidan con la forma esperada por el modelo\n",
    "tensor_input_matrix_pam = np.expand_dims(tensor_input_matrix_pam, axis=0)\n",
    "print(\"Formato matrix complex input con dimensión adicional:\", tensor_input_matrix_pam.shape)\n"
   ]
  },
  {
   "cell_type": "markdown",
   "metadata": {},
   "source": [
    "**REALIZAR PREDICCIÓN (OBTENCIÓN DE COEFICIENTES DE SEÑAL VSC ESTIMADA)**"
   ]
  },
  {
   "cell_type": "markdown",
   "metadata": {
    "scrolled": true
   },
   "source": [
    "# Realizar la predicción\n",
    "predicted_output = predecir_coefs(modelo_cargado, tensor_input_matrix_pam)\n",
    "\n",
    "# Mostrar la predicción\n",
    "print(\"Prediccion de la primera muestra de entrada:\")\n",
    "print(predicted_output)\n",
    "print(\"Formato de los coeficientes de la senal VSC estimada: \", predicted_output.shape)"
   ]
  },
  {
   "cell_type": "markdown",
   "metadata": {},
   "source": [
    "**TRANSFORMAR LA SALIDA ESTIMADA A UN FORMATO (36, 1024) Y LUEGO DE .npy a .mat**"
   ]
  },
  {
   "cell_type": "markdown",
   "metadata": {},
   "source": [
    "# Transformar la matriz tensor VSC a una matriz compleja de formato .mat\n",
    "# El tensor tiene la forma (1, 36, 1024, 2) y necesitamos transformarlo a (36, 1024) a matriz compleja\n",
    "complex_matrix_vsc = predicted_output[0, :, :, 0] + 1j * predicted_output[0, :, :, 1]\n",
    "print(\"Formato nuevo:\",complex_matrix_vsc.shape)"
   ]
  },
  {
   "cell_type": "markdown",
   "metadata": {},
   "source": [
    "# Especificar la ruta completa del archivo, incluyendo el nombre y la extensión .mat\n",
    "ruta_archivo = \"D:\\TT\\Memoria\\waveletycnn\\codigo_matlab\\codigo_fuente\\coefs_vsc_predicted\\coefs_vsc_predicted.mat\"\n",
    "\n",
    "# Guardar la matriz compleja en el archivo especificado\n",
    "scipy.io.savemat(ruta_archivo, {'complex_matrix_vsc': complex_matrix_vsc})\n"
   ]
  },
  {
   "cell_type": "markdown",
   "metadata": {},
   "source": [
    "**TRANSFORMACIÓN DE COEFICIENTES DE LA SENAL VSC ESTIMADA DE FORMATO .mat a .npy**"
   ]
  },
  {
   "cell_type": "markdown",
   "metadata": {},
   "source": [
    "**GUARDADO DE LA MATRIZ COMPLEJA DE LA VSC ESTIMADA EN UNA CARPETA EN EL DIRECTORIO DE MATLAB EN FORMATO .mat**"
   ]
  },
  {
   "cell_type": "markdown",
   "metadata": {},
   "source": [
    "# Directorio donde se guardara la matriz compleja de la VSC estimada en formato .mat\n",
    "mat_dir = 'D:/TT/Memoria/waveletycnn/codigo_matlab/codigo_fuente/coefs_vsc_predicted'\n",
    "os.makedirs(mat_dir, exist_ok=True) # crear directorio \"mat_dir\" si no existe\n",
    "\n",
    "# Extraer el número como cadena\n",
    "numero_como_cadena = nombre_archivo_pam_npy.split('_')[-1].split('.')[0]\n",
    "\n",
    "# Nombre que tendra el archivo de la matriz compleja d la VSC estimada .mat. Se concatena el numero del archivo estimado\n",
    "mat_filename = f'matrix_complex_vsc_predicted_{numero_como_cadena}.mat'\n",
    "print(mat_filename)\n",
    "\n",
    "# Ruta completa del archivo .mat\n",
    "mat_path = os.path.join(mat_dir, mat_filename)\n",
    "\n",
    "\n",
    "try:\n",
    "    data = scipy.io.loadmat(mat_path)\n",
    "    print(\"El archivo es un archivo .mat válido.\")\n",
    "    print(data.keys())\n",
    "except Exception as e:\n",
    "    print(f\"Error al cargar el archivo .mat: {e}\")\n",
    "\n",
    "\n",
    "# Guardar la matriz compleja en un archivo .mat {nombre archivo: contenido archivo}\n",
    "scipy.io.savemat(mat_path, {mat_filename: complex_matrix_vsc})\n",
    "\n",
    "print(f\"Archivo guardado en: {mat_path}\")"
   ]
  },
  {
   "cell_type": "code",
   "execution_count": null,
   "metadata": {},
   "outputs": [],
   "source": []
  }
 ],
 "metadata": {
  "kernelspec": {
   "display_name": "Python 3 (ipykernel)",
   "language": "python",
   "name": "python3"
  },
  "language_info": {
   "codemirror_mode": {
    "name": "ipython",
    "version": 3
   },
   "file_extension": ".py",
   "mimetype": "text/x-python",
   "name": "python",
   "nbconvert_exporter": "python",
   "pygments_lexer": "ipython3",
   "version": "3.8.0"
  }
 },
 "nbformat": 4,
 "nbformat_minor": 4
}
